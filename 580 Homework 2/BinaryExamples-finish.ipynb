{
 "cells": [
  {
   "cell_type": "code",
   "execution_count": 1,
   "metadata": {},
   "outputs": [
    {
     "name": "stdout",
     "output_type": "stream",
     "text": [
      "<xarray.DataArray 'T' (T: 110)>\n",
      "array([ 300.,  320.,  340.,  360.,  380.,  400.,  420.,  440.,  460.,  480.,\n",
      "        500.,  520.,  540.,  560.,  580.,  600.,  620.,  640.,  660.,  680.,\n",
      "        700.,  720.,  740.,  760.,  780.,  800.,  820.,  840.,  860.,  880.,\n",
      "        900.,  920.,  940.,  960.,  980., 1000., 1020., 1040., 1060., 1080.,\n",
      "       1100., 1120., 1140., 1160., 1180., 1200., 1220., 1240., 1260., 1280.,\n",
      "       1300., 1320., 1340., 1360., 1380., 1400., 1420., 1440., 1460., 1480.,\n",
      "       1500., 1520., 1540., 1560., 1580., 1600., 1620., 1640., 1660., 1680.,\n",
      "       1700., 1720., 1740., 1760., 1780., 1800., 1820., 1840., 1860., 1880.,\n",
      "       1900., 1920., 1940., 1960., 1980., 2000., 2020., 2040., 2060., 2080.,\n",
      "       2100., 2120., 2140., 2160., 2180., 2200., 2220., 2240., 2260., 2280.,\n",
      "       2300., 2320., 2340., 2360., 2380., 2400., 2420., 2440., 2460., 2480.])\n",
      "Coordinates:\n",
      "  * T        (T) float64 300.0 320.0 340.0 360.0 ... 2.44e+03 2.46e+03 2.48e+03\n",
      "<xarray.DataArray 'NP' (N: 1, P: 1, T: 110, X_FE: 1, vertex: 3)>\n",
      "array([[[[[0.47225643, 0.52774357,        nan]],\n",
      "\n",
      "         [[0.47155239, 0.52844761,        nan]],\n",
      "\n",
      "         [[0.47039828, 0.52960172,        nan]],\n",
      "\n",
      "         [[0.46941752, 0.53058248,        nan]],\n",
      "\n",
      "         [[0.46861914, 0.53138086,        nan]],\n",
      "\n",
      "         [[0.46800808, 0.53199192,        nan]],\n",
      "\n",
      "         [[0.46758594, 0.53241406,        nan]],\n",
      "\n",
      "         [[0.46735218, 0.53264782,        nan]],\n",
      "\n",
      "         [[0.46730532, 0.53269468,        nan]],\n",
      "\n",
      "         [[0.4674441 , 0.5325559 ,        nan]],\n",
      "\n",
      "...\n",
      "\n",
      "         [[1.        ,        nan,        nan]],\n",
      "\n",
      "         [[1.        ,        nan,        nan]],\n",
      "\n",
      "         [[1.        ,        nan,        nan]],\n",
      "\n",
      "         [[1.        ,        nan,        nan]],\n",
      "\n",
      "         [[1.        ,        nan,        nan]],\n",
      "\n",
      "         [[1.        ,        nan,        nan]],\n",
      "\n",
      "         [[1.        ,        nan,        nan]],\n",
      "\n",
      "         [[1.        ,        nan,        nan]],\n",
      "\n",
      "         [[1.        ,        nan,        nan]],\n",
      "\n",
      "         [[1.        ,        nan,        nan]]]]])\n",
      "Coordinates:\n",
      "  * N        (N) float64 1.0\n",
      "  * P        (P) float64 1.013e+05\n",
      "  * T        (T) float64 300.0 320.0 340.0 360.0 ... 2.44e+03 2.46e+03 2.48e+03\n",
      "  * X_FE     (X_FE) float64 0.5\n",
      "  * vertex   (vertex) int64 0 1 2\n"
     ]
    }
   ],
   "source": [
    "%matplotlib inline\n",
    "import matplotlib.pyplot as plt\n",
    "import numpy as np\n",
    "from pycalphad import Database, calculate, equilibrium, binplot\n",
    "import pycalphad.variables as v\n",
    "from binary_helpers import plot_convex_hull\n",
    "\n",
    "# Load database and choose the phases that will be considered\n",
    "dbf = Database('Cr-Fe-ref2.TDB')\n",
    "comps = ['CR', 'FE', 'VA']\n",
    "phases = sorted(dbf.phases)\n",
    "\n",
    "eq_alni = equilibrium(dbf, ['CR', 'FE', 'VA'], phases, {v.X('FE'): 0.5, v.T: (300, 2500, 20), v.P: 101325})\n",
    "print(eq_alni['T'])\n",
    "print(eq_alni['NP'])"
   ]
  },
  {
   "cell_type": "code",
   "execution_count": 2,
   "metadata": {},
   "outputs": [
    {
     "name": "stdout",
     "output_type": "stream",
     "text": [
      "[]\n",
      "[]\n",
      "[0 0 0 0 0 0 0 0 0 0 0 0 0 0 0 0 0 0 0 0 0 0 0 0 0 0 0 0 0 0 0 0 0 0 0 0 0\n",
      " 0 0 0 0 0 0 0 0 0 0 0 0 0 0 0 0 0 0 0 0 0 0 0 0 0 0 0 0 0 0 0 0 0 0 0 0 0\n",
      " 0 0 0 0 0 0 0 0 0 0 0 0 0 0 0 0 0 0 0 0 0 0 0 0 0 0 0 0]\n",
      "[]\n",
      "[]\n",
      "[0 0 0 0 0 0 0 0 0 0 0 0 0 0 0 0 0 0 0 0 0 0 0 0 0 0 0 0 0 0 0 0 0]\n",
      "[]\n",
      "[0 0 0 0 0 0 0 0 0 0 0 0 0 0 0]\n"
     ]
    },
    {
     "data": {
      "text/plain": [
       "<matplotlib.legend.Legend at 0x7fdb931c8810>"
      ]
     },
     "execution_count": 2,
     "metadata": {},
     "output_type": "execute_result"
    },
    {
     "data": {
      "image/png": "[encoded data removed]",
      "text/plain": [
       "<Figure size 432x288 with 1 Axes>"
      ]
     },
     "metadata": {
      "needs_background": "light"
     },
     "output_type": "display_data"
    }
   ],
   "source": [
    "from pycalphad.plot.utils import phase_legend\n",
    "phase_handles, phasemap = phase_legend(phases)\n",
    "\n",
    "plt.gca().set_title('Cr-Fe: Phase fractions vs T [X(Fe)=0.5]')\n",
    "plt.gca().set_xlabel('Temperature (K)')\n",
    "plt.gca().set_ylabel('Phase Fraction')\n",
    "plt.gca().set_ylim((0,1.1))\n",
    "plt.gca().set_xlim((300, 2500))\n",
    "\n",
    "for name in phases:\n",
    "    phase_indices = np.nonzero(eq_alni.Phase.values == name)\n",
    "    print(phase_indices[1])\n",
    "    plt.scatter(np.take(eq_alni['T'].values, phase_indices[2]), eq_alni.NP.values[phase_indices], color=phasemap[name])\n",
    "plt.gca().legend(phase_handles, phases, loc='lower right')"
   ]
  },
  {
   "cell_type": "code",
   "execution_count": 21,
   "metadata": {},
   "outputs": [
    {
     "name": "stdout",
     "output_type": "stream",
     "text": [
      "dict_keys(['LIQUID', 'A1', 'A2', 'BCC2', 'CHI', 'FCC2', 'R3BIS', 'SIGMA3'])\n"
     ]
    }
   ],
   "source": [
    "from pycalphad import Database, equilibrium, Model, ReferenceState, variables as v\n",
    "import matplotlib.pyplot as plt\n",
    "import numpy as np\n",
    "\n",
    "dbf = Database(\"Cr-Fe-ref2.TDB\")\n",
    "comps = [\"CR\", \"FE\", \"VA\"]\n",
    "phases = dbf.phases.keys()\n",
    "print(phases)\n",
    "# Create reference states\n",
    "Cr_ref = ReferenceState(\"CR\",\"FCC2\", {v.T: 298.15, v.P: 101325})\n",
    "Fe_ref = ReferenceState(\"FE\", \"FCC2\", {v.T: 298.15, v.P: 101325})\n"
   ]
  },
  {
   "cell_type": "code",
   "execution_count": 23,
   "metadata": {},
   "outputs": [
    {
     "name": "stdout",
     "output_type": "stream",
     "text": [
      "{'LIQUID': <pycalphad.model.Model object at 0x7fdb931d57d0>, 'A1': <pycalphad.model.Model object at 0x7fdb92828f90>, 'A2': <pycalphad.model.Model object at 0x7fdb92a103d0>, 'BCC2': <pycalphad.model.Model object at 0x7fdb9273d250>, 'CHI': <pycalphad.model.Model object at 0x7fdb93a0fd50>, 'FCC2': <pycalphad.model.Model object at 0x7fdbf06e3550>, 'R3BIS': <pycalphad.model.Model object at 0x7fdb9255ec10>, 'SIGMA3': <pycalphad.model.Model object at 0x7fdb924c83d0>}\n"
     ]
    }
   ],
   "source": [
    "# Create the models for each phase and shift them all by the same reference states.\n",
    "eq_models = {}\n",
    "for phase_name in phases:\n",
    "    mod = Model(dbf, comps, phase_name)\n",
    "    mod.shift_reference_state([Cr_ref, Fe_ref], dbf)\n",
    "    eq_models[phase_name] = mod\n",
    "print(eq_models)"
   ]
  },
  {
   "cell_type": "code",
   "execution_count": 41,
   "metadata": {},
   "outputs": [
    {
     "name": "stdout",
     "output_type": "stream",
     "text": [
      "<xarray.Dataset>\n",
      "Dimensions:    (N: 1, P: 1, T: 1, X_FE: 100, component: 2, internal_dof: 2, vertex: 3)\n",
      "Coordinates:\n",
      "  * N          (N) float64 1.0\n",
      "  * P          (P) float64 1.013e+05\n",
      "  * T          (T) float64 900.0\n",
      "  * X_FE       (X_FE) float64 1e-12 0.01 0.02 0.03 0.04 ... 0.96 0.97 0.98 0.99\n",
      "  * vertex     (vertex) int64 0 1 2\n",
      "  * component  (component) <U2 'CR' 'FE'\n",
      "Dimensions without coordinates: internal_dof\n",
      "Data variables:\n",
      "    NP         (N, P, T, X_FE, vertex) float64 1.0 nan nan 1.0 ... 1.0 nan nan\n",
      "    GM         (N, P, T, X_FE) float64 -1.718e+04 -1.782e+04 ... -2.87e+04\n",
      "    MU         (N, P, T, X_FE, component) float64 -1.718e+04 ... -2.847e+04\n",
      "    X          (N, P, T, X_FE, vertex, component) float64 1.0 1e-12 ... nan nan\n",
      "    Y          (N, P, T, X_FE, vertex, internal_dof) float64 1.0 1e-12 ... nan\n",
      "    Phase      (N, P, T, X_FE, vertex) <U6 'LIQUID' '' '' ... 'LIQUID' '' ''\n",
      "    HMR        (N, P, T, X_FE) float64 3.449e+04 3.439e+04 ... 3.038e+04\n",
      "Attributes:\n",
      "    engine:   pycalphad 0.8.3\n",
      "    created:  2020-10-14T19:29:00.357152\n",
      "[['LIQUID' '' '']]\n"
     ]
    }
   ],
   "source": [
    "# Calculate HMR at 2800 K from X(RE)=0 to X(RE)=1\n",
    "conds = {v.P: 101325, v.T: 900, v.X(\"FE\"): (0, 1, 0.01)}\n",
    "result = equilibrium(dbf, comps, phases, conds, output=\"HMR\", model=eq_models)\n",
    "print(result)\n",
    "# Find the groups of unique phases in equilibrium e.g. [CHI_RENB] and [CHI_RENB, HCP_RENB]\n",
    "unique_phase_sets = np.unique(result.Phase.values.squeeze(), axis=0)\n",
    "print(unique_phase_sets)"
   ]
  },
  {
   "cell_type": "code",
   "execution_count": 42,
   "metadata": {},
   "outputs": [
    {
     "data": {
      "image/png": "[encoded data removed]",
      "text/plain": [
       "<Figure size 648x432 with 1 Axes>"
      ]
     },
     "metadata": {
      "needs_background": "light"
     },
     "output_type": "display_data"
    }
   ],
   "source": [
    "# Plot\n",
    "fig = plt.figure(figsize=(9,6))\n",
    "ax = fig.gca()\n",
    "for phase_set in unique_phase_sets:\n",
    "    label = '+'.join([ph for ph in phase_set if ph != ''])\n",
    "    # composition indices with the same unique phase\n",
    "    unique_phase_idx = np.nonzero(np.all(result.Phase.values.squeeze() == phase_set, axis=1))[0]\n",
    "    masked_result = result.isel(X_FE=unique_phase_idx)\n",
    "    ax.plot(masked_result.X_FE.squeeze(), masked_result.HMR.squeeze(), marker='.', label=label)\n",
    "ax.set_xlim((0, 1))\n",
    "ax.set_xlabel('X(FE)')\n",
    "ax.set_ylabel('HM_FORM')\n",
    "ax.set_title('Cr-Fe Formation Enthalpy (T=298 K)')\n",
    "ax.legend()\n",
    "plt.show()"
   ]
  },
  {
   "cell_type": "code",
   "execution_count": 37,
   "metadata": {},
   "outputs": [
    {
     "data": {
      "image/png": "[encoded data removed]",
      "text/plain": [
       "<Figure size 432x288 with 1 Axes>"
      ]
     },
     "metadata": {
      "needs_background": "light"
     },
     "output_type": "display_data"
    }
   ],
   "source": [
    "from pycalphad.plot.utils import phase_legend\n",
    "import matplotlib.patches as mpatches\n",
    "\n",
    "for T in [2500]:\n",
    "    legend_handles, color_dict = phase_legend(phases)\n",
    "    plt.figure()\n",
    "    # Loop over phases, calculate the Gibbs energy, and scatter plot GM vs. X(SN)\n",
    "    phases=['LIQUID']\n",
    "    for phase_name in phases:\n",
    "        result = calculate(dbf, comps, phase_name, P=101325, T=T, N=1, output='HM_MIX')\n",
    "        plt.scatter(result.X.sel(component='FE'), result.HM_MIX, marker='.', s=5, color=color_dict[phase_name], label=phase_name)\n",
    "\n",
    "    # Format the plot\n",
    "    plt.title(f'T = {T} K')\n",
    "    plt.xlabel('X(AL)')\n",
    "    plt.ylabel('HM_MIX')\n",
    "    plt.xlim((0, 1))\n",
    "    plt.legend(handles=legend_handles, loc='center left', bbox_to_anchor=(1, 0.6))\n",
    "    plt.show()"
   ]
  },
  {
   "cell_type": "code",
   "execution_count": null,
   "metadata": {},
   "outputs": [],
   "source": [
    "%%time\n",
    "binplot(dbf, comps,  dbf.phases.keys(), {v.X('FE'): (0,1,0.01), v.T: (500, 2500, 25), v.P:101325, v.N: 1}, plot_kwargs={'scatter': False})"
   ]
  },
  {
   "cell_type": "code",
   "execution_count": null,
   "metadata": {},
   "outputs": [],
   "source": []
  }
 ],
 "metadata": {
  "kernelspec": {
   "display_name": "Python 3",
   "language": "python",
   "name": "python3"
  },
  "language_info": {
   "codemirror_mode": {
    "name": "ipython",
    "version": 3
   },
   "file_extension": ".py",
   "mimetype": "text/x-python",
   "name": "python",
   "nbconvert_exporter": "python",
   "pygments_lexer": "ipython3",
   "version": "3.7.8"
  }
 },
 "nbformat": 4,
 "nbformat_minor": 4
}
