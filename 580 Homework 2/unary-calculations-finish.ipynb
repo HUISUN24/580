{
 "cells": [
  {
   "cell_type": "code",
   "execution_count": 1,
   "metadata": {},
   "outputs": [],
   "source": [
    "import matplotlib.pyplot as plt\n",
    "import numpy as np\n",
    "from pycalphad import Database, calculate, equilibrium, variables as v\n",
    "from PT import PT_phase_diagram"
   ]
  },
  {
   "cell_type": "code",
   "execution_count": 2,
   "metadata": {},
   "outputs": [],
   "source": [
    "# Load the database\n",
    "db_sgte = Database('Cr-Fe-ref2.TDB')"
   ]
  },
  {
   "cell_type": "code",
   "execution_count": null,
   "metadata": {},
   "outputs": [],
   "source": [
    "x=[]\n",
    "y=[]\n",
    "a=['FCC2', 'LIQUID']\n",
    "for i in sorted(a):\n",
    "    print(i)\n",
    "    GM=calculate(db_sgte, ['FE', 'VA'], i, P=101325, T=(300, 2500, 100), N=1,output='GM')\n",
    "    x=GM.T\n",
    "    y=GM.GM.squeeze()\n",
    "    plt.plot(x,y,label=i)\n",
    "plt.xlabel(\"Temperature [K]\")\n",
    "plt.ylabel(\"GM [J/K]\")\n",
    "plt.legend()\n"
   ]
  },
  {
   "cell_type": "code",
   "execution_count": 4,
   "metadata": {},
   "outputs": [],
   "source": [
    "sorted(db_sgte.phases)\n",
    "pha=['FCC2','LIQUID']"
   ]
  },
  {
   "cell_type": "code",
   "execution_count": null,
   "metadata": {},
   "outputs": [
    {
     "name": "stderr",
     "output_type": "stream",
     "text": [
      "/srv/conda/envs/notebook/lib/python3.7/site-packages/pycalphad/core/lower_convex_hull.py:136: RuntimeWarning: invalid value encountered in double_scalars\n",
      "  result_array_GM_values[it.multi_index] = new_energy / molesum\n"
     ]
    }
   ],
   "source": [
    "\n",
    "equil_result = equilibrium(db_sgte, ['CR','FE','VA'], pha, {v.X('CR'): 1,v.N: 1,v.P: 101325,v.T: (300, 2500,10),}, output='SM')\n",
    "\n",
    "equil_result2 = equilibrium(db_sgte, ['CR','FE','VA'], pha, {v.X('FE'): 1,v.N: 1,v.P: 101325,v.T: (300, 2500,10),}, output='SM')\n",
    "\n",
    "# Squeeze is required because the array corresponding to HM is multidimensional for each T, P, and N where we've calculated the energy\n",
    "plt.plot(equil_result.T, equil_result.SM.squeeze(),label='Cr')\n",
    "plt.plot(equil_result2.T, equil_result2.SM.squeeze(),label='Fe')\n",
    "plt.xlabel(\"Temperature [K]\")\n",
    "plt.ylabel(\"SM [J/K]\")\n",
    "plt.legend()"
   ]
  },
  {
   "cell_type": "code",
   "execution_count": null,
   "metadata": {},
   "outputs": [],
   "source": []
  }
 ],
 "metadata": {
  "kernelspec": {
   "display_name": "Python 3",
   "language": "python",
   "name": "python3"
  },
  "language_info": {
   "codemirror_mode": {
    "name": "ipython",
    "version": 3
   },
   "file_extension": ".py",
   "mimetype": "text/x-python",
   "name": "python",
   "nbconvert_exporter": "python",
   "pygments_lexer": "ipython3",
   "version": "3.7.8"
  }
 },
 "nbformat": 4,
 "nbformat_minor": 4
}
